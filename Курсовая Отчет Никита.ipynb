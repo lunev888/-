{
  "nbformat": 4,
  "nbformat_minor": 0,
  "metadata": {
    "colab": {
      "name": "НикитаКурсовая.ipynb",
      "provenance": []
    },
    "kernelspec": {
      "name": "python3",
      "display_name": "Python 3"
    },
    "language_info": {
      "name": "python"
    }
  },
  "cells": [
    {
      "cell_type": "code",
      "execution_count": 1,
      "metadata": {
        "id": "975GY7usHA3a"
      },
      "outputs": [],
      "source": [
        "import pandas as pd\n",
        "import matplotlib.pyplot as plt"
      ]
    },
    {
      "cell_type": "markdown",
      "source": [
        "# Предобработка и разведывательный анализ данных"
      ],
      "metadata": {
        "id": "mrC40SWWHNWv"
      }
    },
    {
      "cell_type": "code",
      "source": [
        "df = pd.read_csv('Dataset_nikita.csv')"
      ],
      "metadata": {
        "id": "lLpavcV4HNl7"
      },
      "execution_count": 2,
      "outputs": []
    },
    {
      "cell_type": "markdown",
      "source": [
        "Осмотр датафрейма"
      ],
      "metadata": {
        "id": "5XIeePB9IH-A"
      }
    },
    {
      "cell_type": "code",
      "source": [
        "df.describe()"
      ],
      "metadata": {
        "colab": {
          "base_uri": "https://localhost:8080/",
          "height": 300
        },
        "id": "KOpeTeSRHNvm",
        "outputId": "807cc41f-8d7d-4e67-b5e9-1fdeca9d3c85"
      },
      "execution_count": 3,
      "outputs": [
        {
          "output_type": "execute_result",
          "data": {
            "text/plain": [
              "              Year          Tax        mileage  config_type   car_brand  \\\n",
              "count   999.000000   999.000000     999.000000    999.00000  999.000000   \n",
              "mean   2007.703704   818.185185  146935.460460      1.02002    4.503504   \n",
              "std       8.026777   390.898865   86359.236465      0.81911    2.921782   \n",
              "min    1995.000000   151.000000    1302.000000      0.00000    0.000000   \n",
              "25%    2001.000000   462.500000   71577.500000      0.00000    2.000000   \n",
              "50%    2007.000000   813.000000  143446.000000      1.00000    4.000000   \n",
              "75%    2015.000000  1150.000000  220956.000000      2.00000    7.000000   \n",
              "max    2022.000000  1500.000000  299985.000000      2.00000    9.000000   \n",
              "\n",
              "               price  \n",
              "count     999.000000  \n",
              "mean    33097.468468  \n",
              "std     24270.381201  \n",
              "min     10058.000000  \n",
              "25%     20209.000000  \n",
              "50%     30461.000000  \n",
              "75%     40682.000000  \n",
              "max    325587.000000  "
            ],
            "text/html": [
              "\n",
              "  <div id=\"df-261662eb-e696-4cb1-bd5c-e567ce9a592e\">\n",
              "    <div class=\"colab-df-container\">\n",
              "      <div>\n",
              "<style scoped>\n",
              "    .dataframe tbody tr th:only-of-type {\n",
              "        vertical-align: middle;\n",
              "    }\n",
              "\n",
              "    .dataframe tbody tr th {\n",
              "        vertical-align: top;\n",
              "    }\n",
              "\n",
              "    .dataframe thead th {\n",
              "        text-align: right;\n",
              "    }\n",
              "</style>\n",
              "<table border=\"1\" class=\"dataframe\">\n",
              "  <thead>\n",
              "    <tr style=\"text-align: right;\">\n",
              "      <th></th>\n",
              "      <th>Year</th>\n",
              "      <th>Tax</th>\n",
              "      <th>mileage</th>\n",
              "      <th>config_type</th>\n",
              "      <th>car_brand</th>\n",
              "      <th>price</th>\n",
              "    </tr>\n",
              "  </thead>\n",
              "  <tbody>\n",
              "    <tr>\n",
              "      <th>count</th>\n",
              "      <td>999.000000</td>\n",
              "      <td>999.000000</td>\n",
              "      <td>999.000000</td>\n",
              "      <td>999.00000</td>\n",
              "      <td>999.000000</td>\n",
              "      <td>999.000000</td>\n",
              "    </tr>\n",
              "    <tr>\n",
              "      <th>mean</th>\n",
              "      <td>2007.703704</td>\n",
              "      <td>818.185185</td>\n",
              "      <td>146935.460460</td>\n",
              "      <td>1.02002</td>\n",
              "      <td>4.503504</td>\n",
              "      <td>33097.468468</td>\n",
              "    </tr>\n",
              "    <tr>\n",
              "      <th>std</th>\n",
              "      <td>8.026777</td>\n",
              "      <td>390.898865</td>\n",
              "      <td>86359.236465</td>\n",
              "      <td>0.81911</td>\n",
              "      <td>2.921782</td>\n",
              "      <td>24270.381201</td>\n",
              "    </tr>\n",
              "    <tr>\n",
              "      <th>min</th>\n",
              "      <td>1995.000000</td>\n",
              "      <td>151.000000</td>\n",
              "      <td>1302.000000</td>\n",
              "      <td>0.00000</td>\n",
              "      <td>0.000000</td>\n",
              "      <td>10058.000000</td>\n",
              "    </tr>\n",
              "    <tr>\n",
              "      <th>25%</th>\n",
              "      <td>2001.000000</td>\n",
              "      <td>462.500000</td>\n",
              "      <td>71577.500000</td>\n",
              "      <td>0.00000</td>\n",
              "      <td>2.000000</td>\n",
              "      <td>20209.000000</td>\n",
              "    </tr>\n",
              "    <tr>\n",
              "      <th>50%</th>\n",
              "      <td>2007.000000</td>\n",
              "      <td>813.000000</td>\n",
              "      <td>143446.000000</td>\n",
              "      <td>1.00000</td>\n",
              "      <td>4.000000</td>\n",
              "      <td>30461.000000</td>\n",
              "    </tr>\n",
              "    <tr>\n",
              "      <th>75%</th>\n",
              "      <td>2015.000000</td>\n",
              "      <td>1150.000000</td>\n",
              "      <td>220956.000000</td>\n",
              "      <td>2.00000</td>\n",
              "      <td>7.000000</td>\n",
              "      <td>40682.000000</td>\n",
              "    </tr>\n",
              "    <tr>\n",
              "      <th>max</th>\n",
              "      <td>2022.000000</td>\n",
              "      <td>1500.000000</td>\n",
              "      <td>299985.000000</td>\n",
              "      <td>2.00000</td>\n",
              "      <td>9.000000</td>\n",
              "      <td>325587.000000</td>\n",
              "    </tr>\n",
              "  </tbody>\n",
              "</table>\n",
              "</div>\n",
              "      <button class=\"colab-df-convert\" onclick=\"convertToInteractive('df-261662eb-e696-4cb1-bd5c-e567ce9a592e')\"\n",
              "              title=\"Convert this dataframe to an interactive table.\"\n",
              "              style=\"display:none;\">\n",
              "        \n",
              "  <svg xmlns=\"http://www.w3.org/2000/svg\" height=\"24px\"viewBox=\"0 0 24 24\"\n",
              "       width=\"24px\">\n",
              "    <path d=\"M0 0h24v24H0V0z\" fill=\"none\"/>\n",
              "    <path d=\"M18.56 5.44l.94 2.06.94-2.06 2.06-.94-2.06-.94-.94-2.06-.94 2.06-2.06.94zm-11 1L8.5 8.5l.94-2.06 2.06-.94-2.06-.94L8.5 2.5l-.94 2.06-2.06.94zm10 10l.94 2.06.94-2.06 2.06-.94-2.06-.94-.94-2.06-.94 2.06-2.06.94z\"/><path d=\"M17.41 7.96l-1.37-1.37c-.4-.4-.92-.59-1.43-.59-.52 0-1.04.2-1.43.59L10.3 9.45l-7.72 7.72c-.78.78-.78 2.05 0 2.83L4 21.41c.39.39.9.59 1.41.59.51 0 1.02-.2 1.41-.59l7.78-7.78 2.81-2.81c.8-.78.8-2.07 0-2.86zM5.41 20L4 18.59l7.72-7.72 1.47 1.35L5.41 20z\"/>\n",
              "  </svg>\n",
              "      </button>\n",
              "      \n",
              "  <style>\n",
              "    .colab-df-container {\n",
              "      display:flex;\n",
              "      flex-wrap:wrap;\n",
              "      gap: 12px;\n",
              "    }\n",
              "\n",
              "    .colab-df-convert {\n",
              "      background-color: #E8F0FE;\n",
              "      border: none;\n",
              "      border-radius: 50%;\n",
              "      cursor: pointer;\n",
              "      display: none;\n",
              "      fill: #1967D2;\n",
              "      height: 32px;\n",
              "      padding: 0 0 0 0;\n",
              "      width: 32px;\n",
              "    }\n",
              "\n",
              "    .colab-df-convert:hover {\n",
              "      background-color: #E2EBFA;\n",
              "      box-shadow: 0px 1px 2px rgba(60, 64, 67, 0.3), 0px 1px 3px 1px rgba(60, 64, 67, 0.15);\n",
              "      fill: #174EA6;\n",
              "    }\n",
              "\n",
              "    [theme=dark] .colab-df-convert {\n",
              "      background-color: #3B4455;\n",
              "      fill: #D2E3FC;\n",
              "    }\n",
              "\n",
              "    [theme=dark] .colab-df-convert:hover {\n",
              "      background-color: #434B5C;\n",
              "      box-shadow: 0px 1px 3px 1px rgba(0, 0, 0, 0.15);\n",
              "      filter: drop-shadow(0px 1px 2px rgba(0, 0, 0, 0.3));\n",
              "      fill: #FFFFFF;\n",
              "    }\n",
              "  </style>\n",
              "\n",
              "      <script>\n",
              "        const buttonEl =\n",
              "          document.querySelector('#df-261662eb-e696-4cb1-bd5c-e567ce9a592e button.colab-df-convert');\n",
              "        buttonEl.style.display =\n",
              "          google.colab.kernel.accessAllowed ? 'block' : 'none';\n",
              "\n",
              "        async function convertToInteractive(key) {\n",
              "          const element = document.querySelector('#df-261662eb-e696-4cb1-bd5c-e567ce9a592e');\n",
              "          const dataTable =\n",
              "            await google.colab.kernel.invokeFunction('convertToInteractive',\n",
              "                                                     [key], {});\n",
              "          if (!dataTable) return;\n",
              "\n",
              "          const docLinkHtml = 'Like what you see? Visit the ' +\n",
              "            '<a target=\"_blank\" href=https://colab.research.google.com/notebooks/data_table.ipynb>data table notebook</a>'\n",
              "            + ' to learn more about interactive tables.';\n",
              "          element.innerHTML = '';\n",
              "          dataTable['output_type'] = 'display_data';\n",
              "          await google.colab.output.renderOutput(dataTable, element);\n",
              "          const docLink = document.createElement('div');\n",
              "          docLink.innerHTML = docLinkHtml;\n",
              "          element.appendChild(docLink);\n",
              "        }\n",
              "      </script>\n",
              "    </div>\n",
              "  </div>\n",
              "  "
            ]
          },
          "metadata": {},
          "execution_count": 3
        }
      ]
    },
    {
      "cell_type": "markdown",
      "source": [
        "Попробуем выявить зависимость между маркой машины и ценой"
      ],
      "metadata": {
        "id": "LOhIswFLP6yH"
      }
    },
    {
      "cell_type": "code",
      "source": [
        "df.groupby('car_brand', as_index=False, dropna=True).agg({'price' : 'mean'}).plot()"
      ],
      "metadata": {
        "colab": {
          "base_uri": "https://localhost:8080/",
          "height": 282
        },
        "id": "6Y148E5BaLxb",
        "outputId": "ee3cc3b8-0e54-49ff-a600-2f307800561e"
      },
      "execution_count": 4,
      "outputs": [
        {
          "output_type": "execute_result",
          "data": {
            "text/plain": [
              "<matplotlib.axes._subplots.AxesSubplot at 0x7f0418160310>"
            ]
          },
          "metadata": {},
          "execution_count": 4
        },
        {
          "output_type": "display_data",
          "data": {
            "text/plain": [
              "<Figure size 432x288 with 1 Axes>"
            ],
            "image/png": "[encoded data removed]"
          },
          "metadata": {
            "needs_background": "light"
          }
        }
      ]
    },
    {
      "cell_type": "markdown",
      "source": [
        "Попробуем выявить зависимость между маркой машины, конфигурации и ценой"
      ],
      "metadata": {
        "id": "uWjz_r7Vauww"
      }
    },
    {
      "cell_type": "code",
      "source": [
        "df.groupby(['config_type', 'car_brand'], as_index=False, dropna=False).agg({'price':'mean'}).plot()"
      ],
      "metadata": {
        "id": "dw1VBfOPJ1Yw",
        "colab": {
          "base_uri": "https://localhost:8080/",
          "height": 282
        },
        "outputId": "109f8259-56a4-4601-93d5-b3b1b9a35986"
      },
      "execution_count": 5,
      "outputs": [
        {
          "output_type": "execute_result",
          "data": {
            "text/plain": [
              "<matplotlib.axes._subplots.AxesSubplot at 0x7f04181cf950>"
            ]
          },
          "metadata": {},
          "execution_count": 5
        },
        {
          "output_type": "display_data",
          "data": {
            "text/plain": [
              "<Figure size 432x288 with 1 Axes>"
            ],
            "image/png": "[encoded data removed]"
          },
          "metadata": {
            "needs_background": "light"
          }
        }
      ]
    },
    {
      "cell_type": "code",
      "source": [
        "import numpy as np\n",
        "import tensorflow as tf\n",
        "import random as rn\n",
        "import pandas as pd\n",
        "from tensorflow.keras.utils import to_categorical\n",
        "from keras import backend as K\n",
        "from tensorflow import keras\n",
        "from tensorflow.keras.models import Sequential\n",
        "from tensorflow.keras.layers import Dense\n",
        "from sklearn.model_selection import train_test_split\n",
        "from sklearn.preprocessing import StandardScaler, MinMaxScaler\n",
        "from sklearn.model_selection import cross_validate\n",
        "from sklearn.model_selection import KFold\n",
        "import matplotlib.pyplot as plt\n",
        "from imblearn.pipeline import Pipeline\n",
        "from keras.wrappers.scikit_learn import KerasClassifier"
      ],
      "metadata": {
        "id": "zBqkVbvqKiQr"
      },
      "execution_count": 6,
      "outputs": []
    },
    {
      "cell_type": "code",
      "source": [
        "# Import pandas\n",
        "import pandas as pd\n",
        "print(df.columns)\n",
        "data = df\n",
        "data = data.to_numpy()\n",
        "print(data)"
      ],
      "metadata": {
        "id": "EF3BBpOuIDn5",
        "colab": {
          "base_uri": "https://localhost:8080/"
        },
        "outputId": "d17f0bb9-1e23-4415-883d-8c46d2b2e368"
      },
      "execution_count": 7,
      "outputs": [
        {
          "output_type": "stream",
          "name": "stdout",
          "text": [
            "Index(['Year', 'Tax', 'mileage', 'config_type', 'car_brand', 'price'], dtype='object')\n",
            "[[1.99500e+03 7.32000e+02 2.46508e+05 2.00000e+00 9.00000e+00 2.85000e+04]\n",
            " [2.00400e+03 4.20000e+02 2.42483e+05 2.00000e+00 8.00000e+00 4.56400e+04]\n",
            " [2.00000e+03 2.42000e+02 2.44068e+05 1.00000e+00 7.00000e+00 1.99940e+04]\n",
            " ...\n",
            " [2.01100e+03 1.21600e+03 2.01159e+05 2.00000e+00 5.00000e+00 1.05260e+04]\n",
            " [2.00200e+03 6.90000e+02 2.95729e+05 1.00000e+00 5.00000e+00 1.62920e+04]\n",
            " [2.00200e+03 1.39600e+03 6.17600e+03 2.00000e+00 3.00000e+00 1.74860e+04]]\n"
          ]
        }
      ]
    },
    {
      "cell_type": "code",
      "source": [
        "Y = data[:, -1]\n",
        "X = data[:, :-1]"
      ],
      "metadata": {
        "id": "hU2V44RUID3J"
      },
      "execution_count": 8,
      "outputs": []
    },
    {
      "cell_type": "code",
      "source": [
        "X_train,X_test,Y_train,Y_test = train_test_split(X,Y)#Разбили выборку на обучающий и тестовый наборы\n",
        "X_scaler = MinMaxScaler().fit(X_train)\n",
        "Y_scaler = MinMaxScaler().fit(np.expand_dims(Y_train, -1))\n",
        "print(X_scaler)\n",
        "X_train = X_scaler.transform(X_train)\n",
        "X_test = X_scaler.transform(X_test)\n",
        "\n",
        "Y_train = Y_scaler.transform(np.expand_dims(Y_train, -1)).ravel()\n",
        "Y_test = Y_scaler.transform(np.expand_dims(Y_test, -1)).ravel()"
      ],
      "metadata": {
        "id": "edLVm1OKIEFa",
        "colab": {
          "base_uri": "https://localhost:8080/"
        },
        "outputId": "03f61c40-609a-4bba-c147-31c7a106ac10"
      },
      "execution_count": 9,
      "outputs": [
        {
          "output_type": "stream",
          "name": "stdout",
          "text": [
            "MinMaxScaler()\n"
          ]
        }
      ]
    },
    {
      "cell_type": "code",
      "source": [
        "from sklearn.linear_model import Ridge\n",
        "regr = Ridge()\n",
        "regr.fit(X_train, Y_train)\n",
        "y_pred = regr.predict(X_test)\n",
        "from sklearn.metrics import mean_squared_error\n",
        "mean_squared_error(Y_test, y_pred)"
      ],
      "metadata": {
        "id": "ZWJecSkXIERR",
        "colab": {
          "base_uri": "https://localhost:8080/"
        },
        "outputId": "98a65676-5af9-491e-e9ac-3ed9c3526dcb"
      },
      "execution_count": 10,
      "outputs": [
        {
          "output_type": "execute_result",
          "data": {
            "text/plain": [
              "0.00372193684892448"
            ]
          },
          "metadata": {},
          "execution_count": 10
        }
      ]
    },
    {
      "cell_type": "code",
      "source": [
        "from sklearn.neural_network import MLPRegressor\n",
        "regr = MLPRegressor()\n",
        "regr.fit(X_train, Y_train)\n",
        "y_pred = regr.predict(X_test)\n",
        "from sklearn.metrics import mean_squared_error\n",
        "mean_squared_error(Y_test, y_pred)\n"
      ],
      "metadata": {
        "id": "jDZvXN7FIEfi",
        "colab": {
          "base_uri": "https://localhost:8080/"
        },
        "outputId": "af27708b-e027-4c5f-8995-fc051dbdbd0f"
      },
      "execution_count": 23,
      "outputs": [
        {
          "output_type": "execute_result",
          "data": {
            "text/plain": [
              "0.003306131950593477"
            ]
          },
          "metadata": {},
          "execution_count": 23
        }
      ]
    },
    {
      "cell_type": "code",
      "source": [
        "from tensorflow.keras.preprocessing.image import ImageDataGenerator\n",
        "from tensorflow.keras.models import Sequential\n",
        "from tensorflow.keras.layers import Conv2D, MaxPooling2D\n",
        "from tensorflow.keras.layers import Activation, Dropout, Flatten, Dense"
      ],
      "metadata": {
        "id": "edZxCuNGHN8g"
      },
      "execution_count": 12,
      "outputs": []
    },
    {
      "cell_type": "code",
      "source": [
        "model = Sequential()\n",
        "model.add(Dense(32,activation='relu', input_shape=(X_train.shape[1],)))\n",
        "model.add(Dense(128,activation='relu'))\n",
        "model.add(Dense(1))\n",
        "model.compile(loss='mse',\n",
        "              optimizer='adam',\n",
        "              metrics=['mse'])\n",
        "print(model.summary())"
      ],
      "metadata": {
        "id": "sSS0_Cw9HOOq"
      },
      "execution_count": null,
      "outputs": []
    },
    {
      "cell_type": "code",
      "source": [
        "history = model.fit(X_train, Y_train, validation_data=(X_test, Y_test), epochs=100, batch_size=25)"
      ],
      "metadata": {
        "id": "SrILU44KHOdI"
      },
      "execution_count": null,
      "outputs": []
    },
    {
      "cell_type": "code",
      "source": [
        "model1 = Sequential()\n",
        "model1.add(Dense(32,activation='relu', input_shape=(X_train.shape[1],)))\n",
        "model1.add(Dense(64,activation='relu'))\n",
        "model1.add(Dense(128,activation='relu'))\n",
        "model1.add(Dense(256,activation='relu'))\n",
        "model1.add(Dense(1))\n",
        "model1.compile(loss='mse',\n",
        "              optimizer='adam',\n",
        "              metrics=['mse'])\n",
        "print(model1.summary())"
      ],
      "metadata": {
        "id": "VrbyImpRHOpu"
      },
      "execution_count": null,
      "outputs": []
    },
    {
      "cell_type": "code",
      "source": [
        "history1 = model1.fit(X_train, Y_train, validation_data=(X_test, Y_test), epochs=100, batch_size=25)"
      ],
      "metadata": {
        "id": "02aJ3Xm1HO5v"
      },
      "execution_count": null,
      "outputs": []
    },
    {
      "cell_type": "code",
      "source": [
        "mse, mae = model.evaluate(X_test, Y_test, verbose=0)\n",
        "print(mse)\n",
        "plt.plot(history.history['mse'], label='')\n",
        "plt.xlabel('Epoch')\n",
        "plt.ylabel('MSE')\n",
        "plt.legend(loc='lower right')\n",
        "model.save('model1.h5')"
      ],
      "metadata": {
        "id": "jYQY-qAEcSSD"
      },
      "execution_count": null,
      "outputs": []
    },
    {
      "cell_type": "code",
      "source": [
        "mse, mae = model1.evaluate(X_test, Y_test, verbose=0)\n",
        "print(mse)\n",
        "plt.plot(history1.history['mse'], label='')\n",
        "plt.xlabel('Epoch')\n",
        "plt.ylabel('MSE')\n",
        "plt.legend(loc='lower right')\n",
        "model1.save('model2.h5')"
      ],
      "metadata": {
        "id": "VFzI_xfrcSP5"
      },
      "execution_count": null,
      "outputs": []
    },
    {
      "cell_type": "code",
      "source": [
        "prediction = model.predict(X_test)\n",
        "pred_vals = Y_scaler.inverse_transform(prediction)\n",
        "true_vals = Y_scaler.inverse_transform(Y_test.reshape(-1, 1))\n",
        "stacked = np.hstack((pred_vals, true_vals))\n",
        "stacked[:10]"
      ],
      "metadata": {
        "id": "3fIqCO1rcSNs",
        "colab": {
          "base_uri": "https://localhost:8080/"
        },
        "outputId": "b54473ba-fa57-439f-cc0f-d136c45caaed"
      },
      "execution_count": 19,
      "outputs": [
        {
          "output_type": "execute_result",
          "data": {
            "text/plain": [
              "array([[23226.3203125 , 21033.        ],\n",
              "       [29808.50390625, 25915.        ],\n",
              "       [21934.15234375, 23426.        ],\n",
              "       [26693.7734375 , 10699.        ],\n",
              "       [30672.16796875, 17822.        ],\n",
              "       [32229.06640625, 24871.        ],\n",
              "       [30521.44335938, 23616.        ],\n",
              "       [31379.41210938, 22617.        ],\n",
              "       [28543.85742188, 20199.        ],\n",
              "       [23115.6953125 , 25625.        ]])"
            ]
          },
          "metadata": {},
          "execution_count": 19
        }
      ]
    },
    {
      "cell_type": "code",
      "source": [
        "prediction_1 = model1.predict(X_test)\n",
        "pred_vals = Y_scaler.inverse_transform(prediction_1)\n",
        "true_vals = Y_scaler.inverse_transform(Y_test.reshape(-1, 1))\n",
        "stacked = np.hstack((pred_vals, true_vals))\n",
        "stacked[:10]"
      ],
      "metadata": {
        "id": "s7uXNt8ycSLZ",
        "colab": {
          "base_uri": "https://localhost:8080/"
        },
        "outputId": "8596edc5-b230-45df-84ee-bcfc6f55d79d"
      },
      "execution_count": 20,
      "outputs": [
        {
          "output_type": "execute_result",
          "data": {
            "text/plain": [
              "array([[28963.12890625, 21033.        ],\n",
              "       [32299.56835938, 25915.        ],\n",
              "       [26894.11914062, 23426.        ],\n",
              "       [27236.640625  , 10699.        ],\n",
              "       [37194.0546875 , 17822.        ],\n",
              "       [26498.3046875 , 24871.        ],\n",
              "       [20051.93554688, 23616.        ],\n",
              "       [24879.3515625 , 22617.        ],\n",
              "       [37787.72265625, 20199.        ],\n",
              "       [ 9061.81835938, 25625.        ]])"
            ]
          },
          "metadata": {},
          "execution_count": 20
        }
      ]
    },
    {
      "cell_type": "code",
      "source": [
        ""
      ],
      "metadata": {
        "id": "zspCyZNqcSI1"
      },
      "execution_count": null,
      "outputs": []
    },
    {
      "cell_type": "code",
      "source": [
        ""
      ],
      "metadata": {
        "id": "sXiJo4ZCcSEc"
      },
      "execution_count": null,
      "outputs": []
    },
    {
      "cell_type": "code",
      "source": [
        ""
      ],
      "metadata": {
        "id": "6FiPKZXicR_F"
      },
      "execution_count": null,
      "outputs": []
    }
  ]
}